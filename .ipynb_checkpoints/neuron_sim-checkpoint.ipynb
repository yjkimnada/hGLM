{
 "cells": [
  {
   "cell_type": "code",
   "execution_count": 1,
   "metadata": {},
   "outputs": [],
   "source": [
    "import numpy as np\n",
    "import matplotlib.pyplot as plt"
   ]
  },
  {
   "cell_type": "code",
   "execution_count": 2,
   "metadata": {},
   "outputs": [],
   "source": [
    "data = np.load(\"/users/yjkimnada/hglm/neuron/alldend/mixedori/vdata_NMDA_ApN0.5_13_Adend_r0_o2_i2_g_b5.npy\").flatten()"
   ]
  },
  {
   "cell_type": "code",
   "execution_count": 3,
   "metadata": {},
   "outputs": [
    {
     "data": {
      "text/plain": [
       "[<matplotlib.lines.Line2D at 0x7f9dc151fa50>]"
      ]
     },
     "execution_count": 3,
     "metadata": {},
     "output_type": "execute_result"
    },
    {
     "data": {
      "image/png": "[encoded data removed]",
      "text/plain": [
       "<Figure size 432x288 with 1 Axes>"
      ]
     },
     "metadata": {
      "needs_background": "light"
     },
     "output_type": "display_data"
    }
   ],
   "source": [
    "plt.plot(data[:1000])"
   ]
  },
  {
   "cell_type": "code",
   "execution_count": null,
   "metadata": {},
   "outputs": [],
   "source": []
  },
  {
   "cell_type": "code",
   "execution_count": 2,
   "metadata": {},
   "outputs": [
    {
     "name": "stdout",
     "output_type": "stream",
     "text": [
      "<class 'list'>\n",
      "<class 'list'>\n",
      "338463\n"
     ]
    }
   ],
   "source": [
    "data = []\n",
    "\n",
    "with open('/users/yjkimnada/hglm/neuron/allDend/mixedori/Ispikes_d80000_r1_rep1_Ni120_i20_I30.dat.dat', 'r') as f:\n",
    "    d = f.readlines()\n",
    "    for i in d:\n",
    "        k = i.rstrip().split(\",\")\n",
    "        data.append(k)\n",
    "\n",
    "print(type(data))\n",
    "print(type(data[0]))\n",
    "print(len(data))"
   ]
  },
  {
   "cell_type": "code",
   "execution_count": 3,
   "metadata": {},
   "outputs": [
    {
     "name": "stdout",
     "output_type": "stream",
     "text": [
      "338393\n"
     ]
    }
   ],
   "source": [
    "bad_idx = []\n",
    "for i in range(len(data)):\n",
    "    if \"NA\" in data[i][0]:\n",
    "        bad_idx.append(i)\n",
    "\n",
    "new_data = []\n",
    "for i in range(len(data)):\n",
    "    if i not in bad_idx:\n",
    "        new_data.append(data[i][0])\n",
    "        \n",
    "print(len(new_data))"
   ]
  },
  {
   "cell_type": "code",
   "execution_count": 4,
   "metadata": {},
   "outputs": [],
   "source": [
    "with open('/users/yjkimnada/hglm/neuron/allDend/mixedori/NEW_Ispikes_d80000_r1_rep1_Ni120_i20_I30.dat.dat', \"w\") as outfile:\n",
    "    outfile.write(\"\\n\".join(str(item) for item in new_data))"
   ]
  },
  {
   "cell_type": "code",
   "execution_count": null,
   "metadata": {},
   "outputs": [],
   "source": []
  },
  {
   "cell_type": "code",
   "execution_count": 5,
   "metadata": {},
   "outputs": [],
   "source": [
    "new_data = np.loadtxt('/users/yjkimnada/hglm/neuron/allDend/mixedori/NEW_Espikes_d80000_r1_rep1_Ne629_e5_E20.dat.dat')"
   ]
  },
  {
   "cell_type": "code",
   "execution_count": 6,
   "metadata": {},
   "outputs": [
    {
     "name": "stdout",
     "output_type": "stream",
     "text": [
      "[[5.03000000e+02 1.35145531e+00]\n",
      " [3.72000000e+02 1.99559539e+00]\n",
      " [4.26000000e+02 2.17343166e+00]\n",
      " ...\n",
      " [2.49000000e+02 7.87425300e+04]\n",
      " [3.98000000e+02 7.87142800e+04]\n",
      " [4.96000000e+02 7.99997200e+04]]\n"
     ]
    }
   ],
   "source": [
    "print(new_data)"
   ]
  },
  {
   "cell_type": "code",
   "execution_count": null,
   "metadata": {},
   "outputs": [],
   "source": []
  }
 ],
 "metadata": {
  "kernelspec": {
   "display_name": "Python 3",
   "language": "python",
   "name": "python3"
  },
  "language_info": {
   "codemirror_mode": {
    "name": "ipython",
    "version": 3
   },
   "file_extension": ".py",
   "mimetype": "text/x-python",
   "name": "python",
   "nbconvert_exporter": "python",
   "pygments_lexer": "ipython3",
   "version": "3.7.8"
  }
 },
 "nbformat": 4,
 "nbformat_minor": 4
}
